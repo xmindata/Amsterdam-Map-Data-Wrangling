{
 "cells": [
  {
   "cell_type": "markdown",
   "metadata": {},
   "source": [
    "# Amsterdam map data wrangling with Python/SQL"
   ]
  },
  {
   "cell_type": "markdown",
   "metadata": {},
   "source": [
    "## Map Area\n",
    "**Amsterdam, the Netherlands**\n",
    "\n",
    "This work is to investigate the OpenStreeMap(osm) data in Amsterdam, the capitcal city of The Netherlands. \n",
    "\n",
    "Amsterdam is a city of fun. It is my favoriate city in the Netherlands, so I am curious about the map data about Amsterdam. The map data was downloaded from [Mapzen.com](https://mapzen.com/data/metro-extracts/your-extracts/29919fb164b6)\n",
    "\n",
    "### Process:\n",
    "The osm file was first parsed with python codes. ** Nodes, node tags, ways, way tags and way-node-tags** are extracted from the osm file and writen in **csv** files. The csv files were then imported into the **sqlite database**."
   ]
  },
  {
   "cell_type": "markdown",
   "metadata": {},
   "source": [
    "## Explore of the Map"
   ]
  },
  {
   "cell_type": "markdown",
   "metadata": {
    "collapsed": true
   },
   "source": [
    "Overall the data information looks quite clean, only a few problems are obvious:\n",
    "\n",
    "- Phone numbers are spaced differently, some even has parenthesis. \n",
    "- Postcode shall be formatted with 4 digits + two alphabetic letters with a space.\n",
    "\n",
    "For instance:\n",
    "\n",
    "- Phone number:\n",
    "```\n",
    "<tag k=\"phone\" v=\"+31 20 625 5537\"/>\n",
    "<tag k=\"phone\" v=\" 0900-8020\"/>\n",
    "<tag k=\"phone\" v=\"+31 (0) 20 788 3060\"/>\n",
    "```\n",
    "\n",
    "- postcode:\n",
    "```\n",
    "<tag k=\"addr:postcode\" v=\"1071 ZD\"/>\n",
    "<tag k=\"addr:postcode\" v=\"1016CJ\"/>\n",
    "```\n",
    "\n"
   ]
  },
  {
   "cell_type": "markdown",
   "metadata": {},
   "source": [
    "## Code for correcting the phone.\n",
    "The phone format in the Netherlands is \n",
    "\n",
    "- country code(+31) + digits \n",
    "- 9 digits in general while some public service code has only 7 or 8 digits\n",
    "- for domestic calls, use 0 at the beginning instead of +31:\n",
    "    for intance 0206278954 is the same as +31206278954\n",
    "\n",
    "The phone number were formatted using the following functions."
   ]
  },
  {
   "cell_type": "code",
   "execution_count": null,
   "metadata": {
    "collapsed": true
   },
   "outputs": [],
   "source": [
    "def is_phone(elem): #find all the keys indicating phone number\n",
    "    return (elem.attrib['k'] == 'phone')\n",
    "  \n",
    "def phone_format(elem):\n",
    "    m = re.findall(r'([0-9]*)', t.attrib['v']) \n",
    "    #find all the digits only\n",
    "    if m > -1:\n",
    "        phone_f = ''.join(m)\n",
    "        if len(phone_f) == 11 or len(phone_f) == 9: \n",
    "        #11 or digits means the digits are already correct\n",
    "        # only need to omit all the parenthesis and space\n",
    "            temp['value'] = '+'+phone_f\n",
    "        elif len(phone_f) == 12:\n",
    "        #12 digits means there's an extra 0 which shall be omited \n",
    "        # like this:  +31 (0)20 62 55 975\n",
    "            temp['value'] = '+'+phone_f[:2] + phone_f[3:]\n",
    "        elif len(phone_f) == 10 or len(phone_f) == 8:\n",
    "        #10 or 8 digits means there's country code missing\n",
    "        # like this:  0900-8020\n",
    "            temp['value'] = '+31'+phone_f[1:]\n",
    "        elif len(phone_f) == 13:\n",
    "        #13 digits: 00 31 900 8020\n",
    "            temp['value'] = '+'+phone_f[2:]\n",
    "        elif len(phone_f) == 7:\n",
    "            temp['value'] = '+31'+phone_f\n",
    "        else:\n",
    "            temp['value'] = phone_f"
   ]
  },
  {
   "cell_type": "markdown",
   "metadata": {},
   "source": [
    "- Before: 0206278954\n",
    "- After: +31206278954\n",
    "\n",
    "- Before:  +31 (0)20 62 55 975\n",
    "- After: +31206255975\n",
    "\n",
    "- Before:  0900-8020\n",
    "- After: +319008020"
   ]
  },
  {
   "cell_type": "markdown",
   "metadata": {},
   "source": [
    "## Code for correcting postcode format.\n",
    "The postcode format in the Netherlands is \n",
    "\n",
    "- 4 digits + 2 letters\n",
    "- the official format has a space between digit and letter, however, some of the postcodes omit the space\n",
    "\n",
    "The postcode values were formatted using the following functions."
   ]
  },
  {
   "cell_type": "code",
   "execution_count": null,
   "metadata": {
    "collapsed": true
   },
   "outputs": [],
   "source": [
    "def is_postcode(elem):\n",
    "# to find out the postcodes\n",
    "    return (elem.attrib['k'] == 'postcode')\n",
    "\n",
    "def postcode_format(elem):\n",
    "    el = elem.attrib['v']\n",
    "    if len(el.strip()) != 7:\n",
    "        return el.lstrip()[0:4]+\" \"+ el.rstrip()[-2:]\n",
    "  "
   ]
  },
  {
   "cell_type": "code",
   "execution_count": null,
   "metadata": {
    "collapsed": true
   },
   "outputs": [],
   "source": [
    "t.attrib['k'] == 'phone':\n",
    "    if len(t.attrib['v']) == 12:\n",
    "        temp['value'] = t.attrib['v']\n",
    "    else:\n",
    "        m = re.findall(r'([0-9]*)', t.attrib['v'])\n",
    "        if m > -1:\n",
    "            temp['value'] = '+'+''.join(m)\n",
    "            print t.attrib['v']\n",
    "            print temp['value']\n",
    "\n",
    "if temp['key'] == 'postcode':\n",
    "    temp['value']=t.attrib['v'].lstrip()[0:4]+\" \"+ t.attrib['v'].rstrip()[-2:]\n",
    "    print t.attrib['v']\n",
    "    print temp['value']"
   ]
  },
  {
   "cell_type": "markdown",
   "metadata": {},
   "source": [
    "The results are as follows:\n",
    "```\n",
    "Before: 1074CM\n",
    "After: 1074 CM\n",
    "\n",
    "Before: 1073BP\n",
    "After: 1073 BP\n",
    "```"
   ]
  },
  {
   "cell_type": "markdown",
   "metadata": {
    "collapsed": true
   },
   "source": [
    "## Investigate the database\n",
    "\n",
    "The size of the files:\n",
    "```\n",
    "for doc in [OSM_PATH, NODES_PATH , NODE_TAGS_PATH, WAYS_PATH, WAY_NODES_PATH, WAY_TAGS_PATH]:\n",
    "    print doc, \"...\", os.path.getsize(doc)/1024/1024, \"MB\"\n",
    "    \n",
    "ams_s.osm ... 54 MB\n",
    "nodes.csv ... 16 MB\n",
    "nodes_tags.csv ... 11 MB\n",
    "ways.csv ... 1 MB\n",
    "ways_nodes.csv ... 4 MB\n",
    "ways_tags.csv ... 3 MB\n",
    "```\n",
    "\n",
    "The statistics of the database:\n",
    "```\n",
    "sqlite> .dbinfo\n",
    "...\n",
    "database page size:  4096\n",
    "database page count: 9042\n",
    "schema format:       4\n",
    "number of tables:    5\n",
    "schema size:         763\n",
    "...\n",
    "```\n"
   ]
  },
  {
   "cell_type": "markdown",
   "metadata": {},
   "source": [
    "\n",
    "Number of nodes:\n",
    "```\n",
    "sqlite> select count(*) from nodes;\n",
    "197331\n",
    "```\n",
    "Number of ways:\n",
    "```\n",
    "sqlite> select count(*) from ways;\n",
    "22391\n",
    "```\n",
    "Number of Unique users:\n",
    "```\n",
    "sqlite> select count(distinct(alles.uid))\n",
    "   ...> from (select uid from nodes union all select uid from ways) alles;\n",
    "519\n",
    "```\n"
   ]
  },
  {
   "cell_type": "markdown",
   "metadata": {},
   "source": [
    "## Coffee shop v.s. cafe\n",
    "Whenever you want to find a cup of coffee in Amsterdam(or in the Netherlands), a quick note is that you can only find coffee in \"cafe\", while in \"coffee shop\" you may find something drives you in the vision. Yes, all the weed shop here is called \"coffee shop\". \n",
    "\n",
    "Here I am curious how many cafe has a name with \"coffee\", and how many of them are actually coffee shop rather than a normal cafe.\n",
    "```\n",
    "select * \n",
    "from node_tags \n",
    "where key = 'name' and value LIKE 'coffee%';\n",
    "---\n",
    "\n",
    "442122358,name,\"Coffeeshop Basjoe\",regular\n",
    "524111724,name,\"Coffeeshop Tops\",regular\n",
    "1221433734,name,\"Coffee company\",regular\n",
    "1289051062,name,\"Coffeeshop Paradox\",regular\n",
    "```\n",
    "\n",
    "With the COUNT and LIKE methods, we can see that 13 of 22 places with a \"coffee\" are actually coffee shop for weed smoking.\n",
    "So for those who doesn't know coffee shop, there's a 59% posibility that you will get wrong energy from \"coffee\" place in Amsterdam.\n",
    "\n",
    "```\n",
    "sqlite> select count(*) \n",
    "   ...> from node_tags \n",
    "   ...> where key = 'name' and value LIKE 'coffee%shop%';\n",
    "13\n",
    "sqlite> select count(*) \n",
    "   ...> from node_tags \n",
    "   ...> where key = 'name' and value LIKE 'coffee%';\n",
    "22\n",
    "```\n"
   ]
  },
  {
   "cell_type": "markdown",
   "metadata": {},
   "source": [
    "## Postcodes - the most busiest area\n",
    "Here comes the top postcodes which includes the most nodes. It is shown that 1018 DN has the most nodes (416)\n",
    "```\n",
    "sqlite> select value, count(distinct(node_tags.id)) as num \n",
    "   ...> from node_tags \n",
    "   ...> where node_tags.key = 'postcode'\n",
    "   ...> group by node_tags.value\n",
    "   ...> order by num desc\n",
    "   ...> limit 10;\n",
    "   \n",
    "\"1018 DN\",416\n",
    "\"1015 DT\",259\n",
    "\"1018 VG\",238\n",
    "\"1011 HB\",231\n",
    "\"1016 XP\",162\n",
    "\"1011 PG\",139\n",
    "\"1011 TD\",135\n",
    "\"1011 DD\",126\n",
    "\"1015 RR\",122\n",
    "\"1017 AN\",119\n",
    "```"
   ]
  },
  {
   "cell_type": "markdown",
   "metadata": {},
   "source": [
    "## Top 10 amenities\n",
    "The total amenities amount is 1650,  37.33 % of the amenities are restaurants and fast food, while 15.2% of the amenities are pub and bars, at the top 6 it is bicycle parking, which again proves that Dutch people are bike maniac :)\n",
    "\n",
    "```\n",
    "sqlite> select value, count(*) as num\n",
    "   ...> from node_tags\n",
    "   ...> where key= 'amenity'\n",
    "   ...> group by node_tags.value\n",
    "   ...> order by num DESC\n",
    "   ...> limit 10;\n",
    "    \n",
    "restaurant,486\n",
    "pub,189\n",
    "cafe,188\n",
    "fast_food,130\n",
    "bench,86\n",
    "bar,62\n",
    "bicycle_parking,55\n",
    "post_box,48\n",
    "atm,36\n",
    "recycling,29\n",
    "```"
   ]
  },
  {
   "cell_type": "markdown",
   "metadata": {},
   "source": [
    "## Suggestions\n",
    "According to the investigation, the map data is generally clean. However, it's noticed that the map data is not complete. The most busies aera(with most amenities) according to the postcode statistics is actually not in the city center, and when it comes to the coffee shop, there's only 13 on the list, which is even less then the amount in the famous red light district. \n",
    "\n",
    "For further imporvement of the data, it is suggested to give some format guide on the data input, for instance the location data. Some of the lat and lon value are not the same length, this might be due to different resolution of the GPS gadgets. Specifically, an initial check can be done to investigate if the resolution is the same as normal, and also if there are same value existed but with different node id, a question mark shall be intrigued once these events happen.\n",
    "\n",
    "However, the format guide shall be in an appropriate way, too much details will also annoy the users, so a more friendly interface shall be proposed. "
   ]
  },
  {
   "cell_type": "code",
   "execution_count": null,
   "metadata": {
    "collapsed": true
   },
   "outputs": [],
   "source": []
  }
 ],
 "metadata": {
  "anaconda-cloud": {},
  "kernelspec": {
   "display_name": "Python [default]",
   "language": "python",
   "name": "python2"
  },
  "language_info": {
   "codemirror_mode": {
    "name": "ipython",
    "version": 2
   },
   "file_extension": ".py",
   "mimetype": "text/x-python",
   "name": "python",
   "nbconvert_exporter": "python",
   "pygments_lexer": "ipython2",
   "version": "2.7.13"
  }
 },
 "nbformat": 4,
 "nbformat_minor": 1
}
